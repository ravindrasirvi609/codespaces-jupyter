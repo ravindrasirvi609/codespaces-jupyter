{
 "cells": [
  {
   "cell_type": "code",
   "execution_count": 3,
   "id": "214b65c5",
   "metadata": {},
   "outputs": [
    {
     "name": "stdout",
     "output_type": "stream",
     "text": [
      "62\n"
     ]
    }
   ],
   "source": [
    "a=20\n",
    "b=30\n",
    "c=12\n",
    "print( a+b+c )"
   ]
  },
  {
   "cell_type": "code",
   "execution_count": 4,
   "id": "39a44526",
   "metadata": {},
   "outputs": [
    {
     "name": "stdout",
     "output_type": "stream",
     "text": [
      "ravindra\n"
     ]
    }
   ],
   "source": [
    "name= \"ravindra\"\n",
    "print(name)"
   ]
  },
  {
   "cell_type": "code",
   "execution_count": 5,
   "id": "51cecee6",
   "metadata": {},
   "outputs": [
    {
     "name": "stdout",
     "output_type": "stream",
     "text": [
      "hello worldravindra\n"
     ]
    }
   ],
   "source": [
    "name1=\"hello world\"\n",
    "print(name1 + name)"
   ]
  },
  {
   "cell_type": "markdown",
   "id": "7f9607db",
   "metadata": {},
   "source": []
  },
  {
   "cell_type": "markdown",
   "id": "72a8ffa2",
   "metadata": {},
   "source": [
    "# datatype"
   ]
  },
  {
   "cell_type": "code",
   "execution_count": 7,
   "id": "62ea9ae2",
   "metadata": {},
   "outputs": [
    {
     "name": "stdout",
     "output_type": "stream",
     "text": [
      "1000\n",
      "<class 'int'>\n"
     ]
    }
   ],
   "source": [
    "a =1000\n",
    "print(a)\n",
    "print(type(a))"
   ]
  },
  {
   "cell_type": "code",
   "execution_count": 8,
   "id": "65569135",
   "metadata": {},
   "outputs": [
    {
     "name": "stdout",
     "output_type": "stream",
     "text": [
      "23.34\n",
      "<class 'float'>\n"
     ]
    }
   ],
   "source": [
    "v = 23.34\n",
    "print(v)\n",
    "print(type(v))"
   ]
  },
  {
   "cell_type": "code",
   "execution_count": 9,
   "id": "ea40da18",
   "metadata": {},
   "outputs": [
    {
     "name": "stdout",
     "output_type": "stream",
     "text": [
      "pune\n",
      "<class 'str'>\n"
     ]
    }
   ],
   "source": [
    "name1 =\"pune\"\n",
    "print(name1)\n",
    "print(type(name1))"
   ]
  },
  {
   "cell_type": "code",
   "execution_count": 11,
   "id": "6d2bea7e",
   "metadata": {},
   "outputs": [
    {
     "name": "stdout",
     "output_type": "stream",
     "text": [
      "False\n",
      "<class 'bool'>\n"
     ]
    }
   ],
   "source": [
    "q = False\n",
    "print(q)\n",
    "print(type(q))"
   ]
  },
  {
   "cell_type": "markdown",
   "id": "e16da7be",
   "metadata": {},
   "source": [
    "# Oprerator"
   ]
  },
  {
   "cell_type": "code",
   "execution_count": 13,
   "id": "ad7ba1be",
   "metadata": {},
   "outputs": [
    {
     "name": "stdout",
     "output_type": "stream",
     "text": [
      "105\n",
      "95\n",
      "500\n",
      "20.0\n",
      "10000000000\n",
      "20\n",
      "0\n"
     ]
    }
   ],
   "source": [
    "z=100\n",
    "x=5\n",
    "print(z+x)\n",
    "print(z-x)\n",
    "print(z*x)\n",
    "print(z/x)\n",
    "print(z**x)\n",
    "print(z//x)\n",
    "print(z%x)\n"
   ]
  },
  {
   "cell_type": "markdown",
   "id": "9db5ee14",
   "metadata": {},
   "source": [
    "# comparision operator"
   ]
  },
  {
   "cell_type": "code",
   "execution_count": 14,
   "id": "942a6d8f",
   "metadata": {},
   "outputs": [
    {
     "name": "stdout",
     "output_type": "stream",
     "text": [
      "True\n"
     ]
    }
   ],
   "source": [
    "a = 1000\n",
    "b =  200\n",
    "print(a>b)"
   ]
  },
  {
   "cell_type": "code",
   "execution_count": 15,
   "id": "7cdde9a4",
   "metadata": {},
   "outputs": [
    {
     "name": "stdout",
     "output_type": "stream",
     "text": [
      "False\n"
     ]
    }
   ],
   "source": [
    "print(a<b)"
   ]
  },
  {
   "cell_type": "code",
   "execution_count": 16,
   "id": "24faee7a",
   "metadata": {},
   "outputs": [],
   "source": [
    "c = 200"
   ]
  },
  {
   "cell_type": "code",
   "execution_count": 17,
   "id": "952ecda7",
   "metadata": {},
   "outputs": [
    {
     "name": "stdout",
     "output_type": "stream",
     "text": [
      "True\n"
     ]
    }
   ],
   "source": [
    "print(b==c)"
   ]
  },
  {
   "cell_type": "markdown",
   "id": "a007d9e4",
   "metadata": {},
   "source": [
    "# Logical operator "
   ]
  },
  {
   "cell_type": "code",
   "execution_count": 20,
   "id": "98b1ee00",
   "metadata": {},
   "outputs": [
    {
     "name": "stdout",
     "output_type": "stream",
     "text": [
      "True\n",
      "False\n",
      "True\n",
      "True\n",
      "False\n"
     ]
    }
   ],
   "source": [
    "a=500\n",
    "b=1000\n",
    "c=1500\n",
    "print(a<b and b<c)\n",
    "print(a<b and b>c)\n",
    "print(a<b or b<c)\n",
    "print(a<b or b>c)\n",
    "print(not(not(not(a<b))))"
   ]
  },
  {
   "cell_type": "markdown",
   "id": "c0182524",
   "metadata": {},
   "source": [
    "# Assignment operator"
   ]
  },
  {
   "cell_type": "code",
   "execution_count": 21,
   "id": "d399cb04",
   "metadata": {},
   "outputs": [
    {
     "name": "stdout",
     "output_type": "stream",
     "text": [
      "440\n"
     ]
    }
   ],
   "source": [
    "A = 400\n",
    "A= A+ 40\n",
    "print(A)"
   ]
  },
  {
   "cell_type": "code",
   "execution_count": 22,
   "id": "773fd5a1",
   "metadata": {},
   "outputs": [
    {
     "name": "stdout",
     "output_type": "stream",
     "text": [
      "220\n"
     ]
    }
   ],
   "source": [
    "b= 200\n",
    "b+=20\n",
    "print(b)"
   ]
  },
  {
   "cell_type": "markdown",
   "id": "acc3897d",
   "metadata": {},
   "source": [
    "# String"
   ]
  },
  {
   "cell_type": "code",
   "execution_count": 24,
   "id": "6ec6a5a2",
   "metadata": {},
   "outputs": [
    {
     "name": "stdout",
     "output_type": "stream",
     "text": [
      "30\n"
     ]
    }
   ],
   "source": [
    "a= \"rajasthan is the part of india\"\n",
    "print(len(a))"
   ]
  },
  {
   "cell_type": "code",
   "execution_count": 25,
   "id": "786e5578",
   "metadata": {},
   "outputs": [
    {
     "name": "stdout",
     "output_type": "stream",
     "text": [
      " RAJASTHAN\n"
     ]
    }
   ],
   "source": [
    "a= \" rajasthan\"\n",
    "print(a.upper())"
   ]
  },
  {
   "cell_type": "code",
   "execution_count": 26,
   "id": "c5e6456b",
   "metadata": {},
   "outputs": [
    {
     "name": "stdout",
     "output_type": "stream",
     "text": [
      "raja\n"
     ]
    }
   ],
   "source": [
    "a= \"rajasthan\"\n",
    "print(a[0 : 4])"
   ]
  },
  {
   "cell_type": "code",
   "execution_count": 27,
   "id": "582a5d2d",
   "metadata": {},
   "outputs": [
    {
     "name": "stdout",
     "output_type": "stream",
     "text": [
      "than\n"
     ]
    }
   ],
   "source": [
    "a =\"rajasthan\"\n",
    "print(a[-4:])"
   ]
  },
  {
   "cell_type": "markdown",
   "id": "beb593a8",
   "metadata": {},
   "source": [
    "# Some other part of database"
   ]
  },
  {
   "cell_type": "code",
   "execution_count": 28,
   "id": "8df5354c",
   "metadata": {},
   "outputs": [
    {
     "name": "stdout",
     "output_type": "stream",
     "text": [
      "[20, 12, 34, 22, 12, 67]\n"
     ]
    }
   ],
   "source": [
    "marks =[20,12,34,22,12,67]\n",
    "print(marks)"
   ]
  },
  {
   "cell_type": "code",
   "execution_count": 29,
   "id": "e53953b4",
   "metadata": {},
   "outputs": [
    {
     "name": "stdout",
     "output_type": "stream",
     "text": [
      "22\n"
     ]
    }
   ],
   "source": [
    "print(marks[3])"
   ]
  },
  {
   "cell_type": "code",
   "execution_count": 30,
   "id": "6ddc8a7d",
   "metadata": {},
   "outputs": [
    {
     "name": "stdout",
     "output_type": "stream",
     "text": [
      "[12, 'rahul', 'pali', False, True, 12.32]\n"
     ]
    }
   ],
   "source": [
    "allldata =[12, \"rahul\", \"pali\", False, True, 12.32]\n",
    "print(allldata)"
   ]
  },
  {
   "cell_type": "code",
   "execution_count": 31,
   "id": "d271c7ae",
   "metadata": {},
   "outputs": [
    {
     "name": "stdout",
     "output_type": "stream",
     "text": [
      "['hey', 'how', 'are', 'you', 'ravindra']\n"
     ]
    }
   ],
   "source": [
    "list5 = [\"hey\", \"how\" ,\"are\", \"you\",\"ravindra\"]\n",
    "print(list5)"
   ]
  },
  {
   "cell_type": "code",
   "execution_count": 33,
   "id": "53eb07e5",
   "metadata": {},
   "outputs": [
    {
     "name": "stdout",
     "output_type": "stream",
     "text": [
      "['hey', 'how', 'are', 'you', 'vinita']\n"
     ]
    }
   ],
   "source": [
    "list5[4] = \"vinita\"\n",
    "print(list5)"
   ]
  },
  {
   "cell_type": "code",
   "execution_count": 34,
   "id": "89236f7b",
   "metadata": {},
   "outputs": [
    {
     "name": "stdout",
     "output_type": "stream",
     "text": [
      "['hey', 'how', 'are', 'you']\n"
     ]
    }
   ],
   "source": [
    "list5.remove(\"vinita\")\n",
    "print(list5)"
   ]
  },
  {
   "cell_type": "markdown",
   "id": "efa05dd6",
   "metadata": {},
   "source": [
    "# Tuple"
   ]
  },
  {
   "cell_type": "code",
   "execution_count": 35,
   "id": "274427be",
   "metadata": {},
   "outputs": [
    {
     "name": "stdout",
     "output_type": "stream",
     "text": [
      "('hello', 'how', 'are', 'you', 'don')\n"
     ]
    }
   ],
   "source": [
    "tupl =( \"hello\", \"how\" , \"are\", \"you\",\"don\")\n",
    "print(tupl)"
   ]
  },
  {
   "cell_type": "markdown",
   "id": "14b13877",
   "metadata": {},
   "source": [
    "# Dictionary"
   ]
  },
  {
   "cell_type": "code",
   "execution_count": 36,
   "id": "ed016c8d",
   "metadata": {},
   "outputs": [
    {
     "name": "stdout",
     "output_type": "stream",
     "text": [
      "{'ravi': 12, 'sunil': 23, 'mukesh': 11}\n"
     ]
    }
   ],
   "source": [
    "Dic1= { \"ravi\" : 12, \"sunil\" : 23, \"mukesh\": 11}\n",
    "print(Dic1)"
   ]
  },
  {
   "cell_type": "code",
   "execution_count": 37,
   "id": "149c4a34",
   "metadata": {},
   "outputs": [
    {
     "name": "stdout",
     "output_type": "stream",
     "text": [
      "<class 'dict'>\n"
     ]
    }
   ],
   "source": [
    "print(type(Dic1))"
   ]
  },
  {
   "cell_type": "code",
   "execution_count": 38,
   "id": "39394c08",
   "metadata": {},
   "outputs": [
    {
     "data": {
      "text/plain": [
       "dict_keys(['ravi', 'sunil', 'mukesh'])"
      ]
     },
     "execution_count": 38,
     "metadata": {},
     "output_type": "execute_result"
    }
   ],
   "source": [
    "Dic1.keys()"
   ]
  },
  {
   "cell_type": "code",
   "execution_count": 40,
   "id": "8862fb47",
   "metadata": {},
   "outputs": [
    {
     "data": {
      "text/plain": [
       "dict_values([12, 23, 11])"
      ]
     },
     "execution_count": 40,
     "metadata": {},
     "output_type": "execute_result"
    }
   ],
   "source": [
    "Dic1.values()"
   ]
  },
  {
   "cell_type": "markdown",
   "id": "8b7ed990",
   "metadata": {},
   "source": [
    "# Set"
   ]
  },
  {
   "cell_type": "code",
   "execution_count": 42,
   "id": "8e5ed311",
   "metadata": {},
   "outputs": [
    {
     "name": "stdout",
     "output_type": "stream",
     "text": [
      "{1, 2, 3, 'hello'}\n",
      "<class 'set'>\n"
     ]
    }
   ],
   "source": [
    "set1 ={1,2,3, \"hello\"}\n",
    "print(set1)\n",
    "print(type(set1))"
   ]
  },
  {
   "cell_type": "code",
   "execution_count": 43,
   "id": "7923fad1",
   "metadata": {},
   "outputs": [
    {
     "name": "stdout",
     "output_type": "stream",
     "text": [
      "{1, 2, 3}\n"
     ]
    }
   ],
   "source": [
    "set2={1,2,2,2,3,3,1,1,}\n",
    "print(set2)"
   ]
  },
  {
   "cell_type": "markdown",
   "id": "ca6723b6",
   "metadata": {},
   "source": [
    "# Conditional Operators"
   ]
  },
  {
   "cell_type": "code",
   "execution_count": 46,
   "id": "e15dece0",
   "metadata": {},
   "outputs": [],
   "source": [
    "a = 20\n",
    "b = 30\n",
    "if(a>b):\n",
    "    print(\"a is greater than b\")"
   ]
  },
  {
   "cell_type": "code",
   "execution_count": 48,
   "id": "b16657d4",
   "metadata": {},
   "outputs": [
    {
     "name": "stdout",
     "output_type": "stream",
     "text": [
      "b is greater than a\n"
     ]
    }
   ],
   "source": [
    "a = 20\n",
    "b = 30\n",
    "if(a>b):\n",
    "    print(\"a is greater than b\")\n",
    "else:\n",
    "    print(\"b is greater than a\")"
   ]
  },
  {
   "cell_type": "code",
   "execution_count": 55,
   "id": "c03718bb",
   "metadata": {},
   "outputs": [
    {
     "name": "stdout",
     "output_type": "stream",
     "text": [
      "enter the value of a 12\n",
      "enter the value of b 23\n",
      "enter the value of c 34\n",
      "c is grestest number\n"
     ]
    }
   ],
   "source": [
    "a = int(input(\"enter the value of a \"))\n",
    "b = int(input(\"enter the value of b \"))\n",
    "c = int(input(\"enter the value of c \"))\n",
    "\n",
    "if(a>b and b>c):\n",
    "    print(\"a is greater than c and b\")\n",
    "elif (b>a and b>c):\n",
    "    print(\"b is greater that a and c\")\n",
    "else: \n",
    "    print(\"c is grestest number\")"
   ]
  },
  {
   "cell_type": "markdown",
   "id": "24ca3760",
   "metadata": {},
   "source": [
    "# Python Loops"
   ]
  },
  {
   "cell_type": "code",
   "execution_count": 58,
   "id": "4b76f2c9",
   "metadata": {},
   "outputs": [
    {
     "name": "stdout",
     "output_type": "stream",
     "text": [
      "1\n",
      "2\n",
      "3\n",
      "4\n",
      "5\n",
      "6\n",
      "7\n",
      "8\n",
      "9\n"
     ]
    }
   ],
   "source": [
    "for i in range(1,10):\n",
    " print(i)"
   ]
  },
  {
   "cell_type": "code",
   "execution_count": 61,
   "id": "ec538581",
   "metadata": {},
   "outputs": [
    {
     "name": "stdout",
     "output_type": "stream",
     "text": [
      "0\n",
      "2\n",
      "4\n",
      "6\n",
      "8\n",
      "10\n"
     ]
    }
   ],
   "source": [
    "for i in range(0,11,2):\n",
    "    print(i)"
   ]
  },
  {
   "cell_type": "code",
   "execution_count": 62,
   "id": "05045639",
   "metadata": {},
   "outputs": [
    {
     "name": "stdout",
     "output_type": "stream",
     "text": [
      "0\n",
      "1\n",
      "2\n",
      "3\n",
      "4\n",
      "5\n",
      "6\n",
      "7\n",
      "8\n",
      "9\n"
     ]
    }
   ],
   "source": [
    "i=0\n",
    "while(i<10):\n",
    "    print(i)\n",
    "    i=i+1"
   ]
  },
  {
   "cell_type": "markdown",
   "id": "7e4974ff",
   "metadata": {},
   "source": [
    "# Function in Python Programing"
   ]
  },
  {
   "cell_type": "code",
   "execution_count": 63,
   "id": "adc778e4",
   "metadata": {},
   "outputs": [],
   "source": [
    "def add():\n",
    "    a = 60\n",
    "    b = 40\n",
    "    print(a + b)"
   ]
  },
  {
   "cell_type": "code",
   "execution_count": 64,
   "id": "f469325e",
   "metadata": {},
   "outputs": [
    {
     "name": "stdout",
     "output_type": "stream",
     "text": [
      "100\n"
     ]
    }
   ],
   "source": [
    "add()"
   ]
  },
  {
   "cell_type": "code",
   "execution_count": 65,
   "id": "3e592db6",
   "metadata": {},
   "outputs": [],
   "source": [
    "def fun1():\n",
    "    a=2\n",
    "    b=4\n",
    "    c=6\n",
    "    print(a*b*c)"
   ]
  },
  {
   "cell_type": "code",
   "execution_count": 66,
   "id": "67933793",
   "metadata": {},
   "outputs": [
    {
     "name": "stdout",
     "output_type": "stream",
     "text": [
      "48\n"
     ]
    }
   ],
   "source": [
    "fun1()"
   ]
  },
  {
   "cell_type": "code",
   "execution_count": 68,
   "id": "7d98abbc",
   "metadata": {},
   "outputs": [],
   "source": [
    "def add(a,b):\n",
    "    print(a+b)"
   ]
  },
  {
   "cell_type": "code",
   "execution_count": 69,
   "id": "8897a478",
   "metadata": {},
   "outputs": [
    {
     "name": "stdout",
     "output_type": "stream",
     "text": [
      "6\n"
     ]
    }
   ],
   "source": [
    "add(2,4)"
   ]
  },
  {
   "cell_type": "code",
   "execution_count": 70,
   "id": "0e3d53d7",
   "metadata": {},
   "outputs": [
    {
     "name": "stdout",
     "output_type": "stream",
     "text": [
      "500\n"
     ]
    }
   ],
   "source": [
    "add(300,200)"
   ]
  },
  {
   "cell_type": "code",
   "execution_count": null,
   "id": "572d727d",
   "metadata": {},
   "outputs": [],
   "source": []
  }
 ],
 "metadata": {
  "kernelspec": {
   "display_name": "Python 3 (ipykernel)",
   "language": "python",
   "name": "python3"
  },
  "language_info": {
   "codemirror_mode": {
    "name": "ipython",
    "version": 3
   },
   "file_extension": ".py",
   "mimetype": "text/x-python",
   "name": "python",
   "nbconvert_exporter": "python",
   "pygments_lexer": "ipython3",
   "version": "3.9.13"
  }
 },
 "nbformat": 4,
 "nbformat_minor": 5
}
